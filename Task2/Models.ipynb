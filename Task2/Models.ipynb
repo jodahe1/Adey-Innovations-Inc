{
 "cells": [
  {
   "cell_type": "code",
   "execution_count": 1,
   "metadata": {},
   "outputs": [],
   "source": [
    "import pandas as pd\n",
    "from sklearn.model_selection import train_test_split\n",
    "from sklearn.tree import DecisionTreeClassifier\n",
    "from sklearn.metrics import accuracy_score\n",
    "import matplotlib.pyplot as plt\n",
    "import seaborn as sns\n",
    "from sklearn.ensemble import RandomForestClassifier, GradientBoostingClassifier\n",
    "from sklearn.neural_network import MLPClassifier\n",
    "import mlflow"
   ]
  },
  {
   "cell_type": "code",
   "execution_count": 2,
   "metadata": {},
   "outputs": [],
   "source": [
    "# Load the data from Fraud_Data.csv\n",
    "fraud_data = pd.read_csv('../CleanedData/merged_Dataset.csv')\n",
    "\n",
    "# Drop columns that are not important\n",
    "fraud_data.drop(['user_id', 'signup_time', 'purchase_time', 'device_id', 'device_id_info', 'lower_bound_ip_address', 'upper_bound_ip_address', 'country'], axis=1, inplace=True)\n",
    "\n",
    "# Encode categorical variables\n",
    "fraud_data = pd.get_dummies(fraud_data, columns=['source', 'browser', 'sex'])\n"
   ]
  },
  {
   "cell_type": "code",
   "execution_count": 3,
   "metadata": {},
   "outputs": [],
   "source": [
    "# Convert 'signup_purchase_duration' to numerical format\n",
    "fraud_data['signup_purchase_duration'] = pd.to_timedelta(fraud_data['signup_purchase_duration']).dt.total_seconds()\n",
    "\n",
    "# Separate features and target variable\n",
    "X = fraud_data.drop('class', axis=1)\n",
    "y = fraud_data['class']\n",
    "\n",
    "# Train-Test Split\n",
    "X_train, X_test, y_train, y_test = train_test_split(X, y, test_size=0.2, random_state=42)\n"
   ]
  },
  {
   "cell_type": "code",
   "execution_count": 4,
   "metadata": {},
   "outputs": [
    {
     "name": "stderr",
     "output_type": "stream",
     "text": [
      "2024/06/21 16:51:16 INFO mlflow.tracking.fluent: Experiment with name 'Fraud Detection' does not exist. Creating a new experiment.\n"
     ]
    },
    {
     "data": {
      "text/plain": [
       "<Experiment: artifact_location='file:///c:/Users/huawei/Desktop/Week8/Adey-Innovations-Inc/Task2/mlruns/772051588966488796', creation_time=1718977876647, experiment_id='772051588966488796', last_update_time=1718977876647, lifecycle_stage='active', name='Fraud Detection', tags={}>"
      ]
     },
     "execution_count": 4,
     "metadata": {},
     "output_type": "execute_result"
    }
   ],
   "source": [
    "# Start MLflow experiment\n",
    "mlflow.set_experiment(\"Fraud Detection\")"
   ]
  },
  {
   "cell_type": "code",
   "execution_count": 5,
   "metadata": {},
   "outputs": [
    {
     "name": "stdout",
     "output_type": "stream",
     "text": [
      "Accuracy: 0.9048252911813643\n"
     ]
    },
    {
     "name": "stderr",
     "output_type": "stream",
     "text": [
      "c:\\Users\\huawei\\anaconda3\\Lib\\site-packages\\_distutils_hack\\__init__.py:26: UserWarning: Setuptools is replacing distutils.\n",
      "  warnings.warn(\"Setuptools is replacing distutils.\")\n"
     ]
    }
   ],
   "source": [
    "# Decision Tree model training\n",
    "with mlflow.start_run(run_name=\"Decision Tree\"):\n",
    "    model = DecisionTreeClassifier()\n",
    "    model.fit(X_train, y_train)\n",
    "    # Predict on the test set\n",
    "    y_pred = model.predict(X_test)\n",
    "    # Evaluate the model\n",
    "    accuracy = accuracy_score(y_test, y_pred)\n",
    "    # Log parameters and metrics\n",
    "    mlflow.log_params(model.get_params())\n",
    "    mlflow.log_metric(\"accuracy\", accuracy)\n",
    "    # Log the trained model\n",
    "    mlflow.sklearn.log_model(model, \"DecisionTreeModel\")\n",
    "    accuracy = accuracy_score(y_test, y_pred)\n",
    "print(\"Accuracy:\", accuracy)"
   ]
  },
  {
   "cell_type": "code",
   "execution_count": 6,
   "metadata": {},
   "outputs": [
    {
     "name": "stdout",
     "output_type": "stream",
     "text": [
      "Percentage of fraud cases: 9.367241941602828\n"
     ]
    }
   ],
   "source": [
    "# EDA for class imbalance\n",
    "class_counts = fraud_data['class'].value_counts()\n",
    "fraud_percentage = class_counts[1] / (class_counts[0] + class_counts[1]) * 100\n",
    "print(\"Percentage of fraud cases:\", fraud_percentage)\n"
   ]
  },
  {
   "cell_type": "code",
   "execution_count": 7,
   "metadata": {},
   "outputs": [],
   "source": [
    "# Feature importance plot\n",
    "with mlflow.start_run(run_name=\"Feature Importance\"):\n",
    "    model = DecisionTreeClassifier()\n",
    "    model.fit(X, y)\n",
    "    feature_importance = model.feature_importances_\n",
    "    feature_names = X.columns\n",
    "    plt.figure(figsize=(10, 6))\n",
    "    sns.barplot(x=feature_importance, y=feature_names)\n",
    "    plt.title('Feature Importance')\n",
    "    plt.xlabel('Importance')\n",
    "    plt.ylabel('Features')\n",
    "    plt.savefig(\"feature_importance.png\")\n",
    "    plt.close()\n",
    "    # Log the feature importance plot\n",
    "    mlflow.log_artifact(\"feature_importance.png\")"
   ]
  },
  {
   "cell_type": "code",
   "execution_count": 8,
   "metadata": {},
   "outputs": [
    {
     "name": "stdout",
     "output_type": "stream",
     "text": [
      "Accuracy: 0.9567054908485857\n"
     ]
    }
   ],
   "source": [
    "# Random Forest model training\n",
    "with mlflow.start_run(run_name=\"Random Forest\"):\n",
    "    model = RandomForestClassifier()\n",
    "    model.fit(X_train, y_train)\n",
    "    # Predict on the test set\n",
    "    y_pred = model.predict(X_test)\n",
    "    # Evaluate the model\n",
    "    accuracy = accuracy_score(y_test, y_pred)\n",
    "    # Log parameters and metrics\n",
    "    mlflow.log_params(model.get_params())\n",
    "    mlflow.log_metric(\"accuracy\", accuracy)\n",
    "    # Log the trained model\n",
    "    mlflow.sklearn.log_model(model, \"RandomForestModel\")\n",
    "    accuracy = accuracy_score(y_test, y_pred)\n",
    "print(\"Accuracy:\", accuracy)\n"
   ]
  },
  {
   "cell_type": "code",
   "execution_count": 9,
   "metadata": {},
   "outputs": [
    {
     "name": "stdout",
     "output_type": "stream",
     "text": [
      "Accuracy: 0.9566722129783694\n"
     ]
    }
   ],
   "source": [
    "# Gradient Boosting model training\n",
    "with mlflow.start_run(run_name=\"Gradient Boosting\"):\n",
    "    model = GradientBoostingClassifier()\n",
    "    model.fit(X_train, y_train)\n",
    "    # Predict on the test set\n",
    "    y_pred = model.predict(X_test)\n",
    "    # Evaluate the model\n",
    "    accuracy = accuracy_score(y_test, y_pred)\n",
    "    # Log parameters and metrics\n",
    "    mlflow.log_params(model.get_params())\n",
    "    mlflow.log_metric(\"accuracy\", accuracy)\n",
    "    # Log the trained model\n",
    "    mlflow.sklearn.log_model(model, \"GradientBoostingModel\")\n",
    "    accuracy = accuracy_score(y_test, y_pred)\n",
    "print(\"Accuracy:\", accuracy)\n"
   ]
  },
  {
   "cell_type": "code",
   "execution_count": 10,
   "metadata": {},
   "outputs": [
    {
     "name": "stdout",
     "output_type": "stream",
     "text": [
      "Accuracy: 0.9265557404326124\n"
     ]
    }
   ],
   "source": [
    "# MLP model training\n",
    "with mlflow.start_run(run_name=\"MLP\"):\n",
    "    model = MLPClassifier()\n",
    "    model.fit(X_train, y_train)\n",
    "    # Predict on the test set\n",
    "    y_pred = model.predict(X_test)\n",
    "    # Evaluate the model\n",
    "    accuracy = accuracy_score(y_test, y_pred)\n",
    "    # Log parameters and metrics\n",
    "    mlflow.log_params(model.get_params())\n",
    "    mlflow.log_metric(\"accuracy\", accuracy)\n",
    "    # Log the trained model\n",
    "    mlflow.sklearn.log_model(model, \"MLPModel\")\n",
    "   \n",
    "accuracy = accuracy_score(y_test, y_pred)\n",
    "print(\"Accuracy:\", accuracy)"
   ]
  }
 ],
 "metadata": {
  "kernelspec": {
   "display_name": "base",
   "language": "python",
   "name": "python3"
  },
  "language_info": {
   "codemirror_mode": {
    "name": "ipython",
    "version": 3
   },
   "file_extension": ".py",
   "mimetype": "text/x-python",
   "name": "python",
   "nbconvert_exporter": "python",
   "pygments_lexer": "ipython3",
   "version": "3.11.7"
  }
 },
 "nbformat": 4,
 "nbformat_minor": 2
}
