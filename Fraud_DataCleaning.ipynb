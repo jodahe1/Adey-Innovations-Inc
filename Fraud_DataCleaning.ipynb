{
 "cells": [
  {
   "cell_type": "code",
   "execution_count": 1,
   "metadata": {},
   "outputs": [],
   "source": [
    "import pandas as pd\n"
   ]
  },
  {
   "cell_type": "code",
   "execution_count": 3,
   "metadata": {},
   "outputs": [],
   "source": [
    "# Read the CSV file\n",
    "data = pd.read_csv('./data/Fraud_Data.csv')"
   ]
  },
  {
   "cell_type": "code",
   "execution_count": 4,
   "metadata": {},
   "outputs": [
    {
     "name": "stdout",
     "output_type": "stream",
     "text": [
      "Missing values:\n",
      " user_id           0\n",
      "signup_time       0\n",
      "purchase_time     0\n",
      "purchase_value    0\n",
      "device_id         0\n",
      "source            0\n",
      "browser           0\n",
      "sex               0\n",
      "age               0\n",
      "ip_address        0\n",
      "class             0\n",
      "dtype: int64\n"
     ]
    }
   ],
   "source": [
    "# Check for missing values\n",
    "missing_values = data.isnull().sum()\n",
    "print(\"Missing values:\\n\", missing_values)"
   ]
  },
  {
   "cell_type": "code",
   "execution_count": 5,
   "metadata": {},
   "outputs": [],
   "source": [
    "# Convert timestamp columns\n",
    "data['signup_time'] = pd.to_datetime(data['signup_time'])\n",
    "data['purchase_time'] = pd.to_datetime(data['purchase_time'])"
   ]
  },
  {
   "cell_type": "code",
   "execution_count": 6,
   "metadata": {},
   "outputs": [],
   "source": [
    "# Remove duplicates\n",
    "data.drop_duplicates(inplace=True)"
   ]
  },
  {
   "cell_type": "code",
   "execution_count": 9,
   "metadata": {},
   "outputs": [],
   "source": [
    "# Validate IP addresses\n",
    "def validate_ip(ip):\n",
    "    parts = str(int(ip)).split('.')\n",
    "    if len(parts) != 4:\n",
    "        return False\n",
    "    for part in parts:\n",
    "        if not part.isdigit() or int(part) < 0 or int(part) > 255:\n",
    "            return False\n",
    "    return True\n",
    "\n",
    "data['valid_ip'] = data['ip_address'].apply(validate_ip)"
   ]
  },
  {
   "cell_type": "code",
   "execution_count": 11,
   "metadata": {},
   "outputs": [],
   "source": [
    "# Handle outliers - purchase_value\n",
    "purchase_value_mean = data['purchase_value'].mean()\n",
    "purchase_value_std = data['purchase_value'].std()\n",
    "outlier_threshold = purchase_value_mean + 3 * purchase_value_std"
   ]
  },
  {
   "cell_type": "code",
   "execution_count": 12,
   "metadata": {},
   "outputs": [],
   "source": [
    "data = data[data['purchase_value'] <= outlier_threshold]\n"
   ]
  },
  {
   "cell_type": "code",
   "execution_count": 13,
   "metadata": {},
   "outputs": [],
   "source": [
    "# Handle outliers - age\n",
    "age_mean = data['age'].mean()\n",
    "age_std = data['age'].std()\n",
    "outlier_threshold = age_mean + 3 * age_std"
   ]
  },
  {
   "cell_type": "code",
   "execution_count": 14,
   "metadata": {},
   "outputs": [],
   "source": [
    "data = data[data['age'] <= outlier_threshold]"
   ]
  },
  {
   "cell_type": "code",
   "execution_count": 15,
   "metadata": {},
   "outputs": [],
   "source": [
    "\n",
    "# Standardize categorical variables - source\n",
    "data['source'] = data['source'].str.lower()\n",
    "\n",
    "# Standardize categorical variables - browser\n",
    "data['browser'] = data['browser'].str.lower()"
   ]
  },
  {
   "cell_type": "code",
   "execution_count": 16,
   "metadata": {},
   "outputs": [],
   "source": [
    "# Feature engineering\n",
    "data['signup_purchase_duration'] = data['purchase_time'] - data['signup_time']\n",
    "data['age_bracket'] = pd.cut(data['age'], bins=[0, 18, 30, 40, 50, 120], labels=['<18', '18-30', '31-40', '41-50', '50+'])\n",
    "data['device_id_info'] = data['device_id'].str[:3]"
   ]
  },
  {
   "cell_type": "code",
   "execution_count": 18,
   "metadata": {},
   "outputs": [
    {
     "name": "stdout",
     "output_type": "stream",
     "text": [
      "Cleaned data saved as 'Cleaned FraudData.csv'\n"
     ]
    }
   ],
   "source": [
    "# Save the modified data as CSV\n",
    "data.to_csv('Cleaned FraudData.csv', index=False)\n",
    "\n",
    "print(\"Cleaned data saved as 'Cleaned FraudData.csv'\")"
   ]
  },
  {
   "cell_type": "code",
   "execution_count": 17,
   "metadata": {},
   "outputs": [
    {
     "name": "stdout",
     "output_type": "stream",
     "text": [
      "Modified data:\n",
      "         user_id         signup_time       purchase_time  purchase_value  \\\n",
      "0         22058 2015-02-24 22:55:49 2015-04-18 02:47:11              34   \n",
      "1        333320 2015-06-07 20:39:50 2015-06-08 01:38:54              16   \n",
      "2          1359 2015-01-01 18:52:44 2015-01-01 18:52:45              15   \n",
      "3        150084 2015-04-28 21:13:25 2015-05-04 13:54:50              44   \n",
      "4        221365 2015-07-21 07:09:52 2015-09-09 18:40:53              39   \n",
      "...         ...                 ...                 ...             ...   \n",
      "151107   345170 2015-01-27 03:03:34 2015-03-29 00:30:47              43   \n",
      "151108   274471 2015-05-15 17:43:29 2015-05-26 12:24:39              35   \n",
      "151109   368416 2015-03-03 23:07:31 2015-05-20 07:07:47              40   \n",
      "151110   207709 2015-07-09 20:06:07 2015-09-07 09:34:46              46   \n",
      "151111   138208 2015-06-10 07:02:20 2015-07-21 02:03:53              20   \n",
      "\n",
      "            device_id  source browser sex  age    ip_address  class  valid_ip  \\\n",
      "0       QVPSPJUOCKZAR     seo  chrome   M   39  7.327584e+08      0     False   \n",
      "1       EOGFQPIZPYXFZ     ads  chrome   F   53  3.503114e+08      0     False   \n",
      "2       YSSKYOSJHPPLJ     seo   opera   M   53  2.621474e+09      1     False   \n",
      "3       ATGTXKYKUDUQN     seo  safari   M   41  3.840542e+09      0     False   \n",
      "4       NAUITBZFJKHWW     ads  safari   M   45  4.155831e+08      0     False   \n",
      "...               ...     ...     ...  ..  ...           ...    ...       ...   \n",
      "151107  XPSKTWGPWINLR     seo  chrome   M   28  3.451155e+09      1     False   \n",
      "151108  LYSFABUCPCGBA     seo  safari   M   32  2.439047e+09      0     False   \n",
      "151109  MEQHCSJUBRBFE     seo      ie   F   26  2.748471e+09      0     False   \n",
      "151110  CMCXFGRHYSTVJ     seo  chrome   M   37  3.601175e+09      0     False   \n",
      "151111  ZINIADFCLHYPG  direct      ie   M   38  4.103825e+09      0     False   \n",
      "\n",
      "       signup_purchase_duration age_bracket device_id_info  \n",
      "0              52 days 03:51:22       31-40            QVP  \n",
      "1               0 days 04:59:04         50+            EOG  \n",
      "2               0 days 00:00:01         50+            YSS  \n",
      "3               5 days 16:41:25       41-50            ATG  \n",
      "4              50 days 11:31:01       41-50            NAU  \n",
      "...                         ...         ...            ...  \n",
      "151107         60 days 21:27:13       18-30            XPS  \n",
      "151108         10 days 18:41:10       31-40            LYS  \n",
      "151109         77 days 08:00:16       18-30            MEQ  \n",
      "151110         59 days 13:28:39       31-40            CMC  \n",
      "151111         40 days 19:01:33       31-40            ZIN  \n",
      "\n",
      "[149701 rows x 15 columns]\n"
     ]
    }
   ],
   "source": [
    "# Print the modified data\n",
    "print(\"Modified data:\\n\", data)"
   ]
  }
 ],
 "metadata": {
  "kernelspec": {
   "display_name": "Python 3",
   "language": "python",
   "name": "python3"
  },
  "language_info": {
   "codemirror_mode": {
    "name": "ipython",
    "version": 3
   },
   "file_extension": ".py",
   "mimetype": "text/x-python",
   "name": "python",
   "nbconvert_exporter": "python",
   "pygments_lexer": "ipython3",
   "version": "3.11.7"
  }
 },
 "nbformat": 4,
 "nbformat_minor": 2
}
