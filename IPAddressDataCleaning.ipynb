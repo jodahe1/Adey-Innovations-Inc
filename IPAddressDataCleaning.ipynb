{
 "cells": [
  {
   "cell_type": "code",
   "execution_count": 12,
   "metadata": {},
   "outputs": [],
   "source": [
    "import pandas as pd\n",
    "import logging\n",
    "import numpy as np"
   ]
  },
  {
   "cell_type": "code",
   "execution_count": 4,
   "metadata": {},
   "outputs": [],
   "source": [
    "# Read the CSV file\n",
    "df = pd.read_csv('./data/IpAddress_to_Country.csv')"
   ]
  },
  {
   "cell_type": "code",
   "execution_count": 3,
   "metadata": {},
   "outputs": [],
   "source": [
    "# Set up logging\n",
    "logging.basicConfig(filename='./LogMonitor/IpAddress_to_CountryCleaning.log', level=logging.INFO, format='%(asctime)s - %(levelname)s - %(message)s')"
   ]
  },
  {
   "cell_type": "code",
   "execution_count": 5,
   "metadata": {},
   "outputs": [],
   "source": [
    "# Check for missing values\n",
    "missing_values = df.isnull().sum()\n",
    "logging.info(\"Missing values:\\n %s\", missing_values)"
   ]
  },
  {
   "cell_type": "code",
   "execution_count": 6,
   "metadata": {},
   "outputs": [],
   "source": [
    "# Remove duplicate entries\n",
    "df.drop_duplicates(inplace=True)\n",
    "logging.info(\"Duplicate entries removed.\")"
   ]
  },
  {
   "cell_type": "code",
   "execution_count": 16,
   "metadata": {},
   "outputs": [],
   "source": [
    "# Remove leading and trailing whitespaces in IP address and country columns\n",
    "df['lower_bound_ip_address'] = df['lower_bound_ip_address'].str.strip()\n",
    "df['upper_bound_ip_address'] = df['upper_bound_ip_address'].astype(str).str.strip()\n",
    "df['country'] = df['country'].str.strip()\n",
    "logging.info(\"Leading and trailing whitespaces removed\")\n"
   ]
  },
  {
   "cell_type": "code",
   "execution_count": 15,
   "metadata": {},
   "outputs": [],
   "source": [
    "# Standardize IP address format\n",
    "df['lower_bound_ip_address'] = df['lower_bound_ip_address'].astype(str).apply(lambda x: x.replace(\".\", \"\"))\n",
    "df['upper_bound_ip_address'] = df['upper_bound_ip_address'].astype(str).apply(lambda x: x.replace(\".\", \"\"))\n",
    "logging.info(\"IP address format standardized\")"
   ]
  },
  {
   "cell_type": "code",
   "execution_count": 17,
   "metadata": {},
   "outputs": [],
   "source": [
    "# Check for and handle outliers or invalid IP address ranges\n",
    "df['lower_bound_ip_address'] = df['lower_bound_ip_address'].astype(float).astype(int)\n",
    "df['upper_bound_ip_address'] = df['upper_bound_ip_address'].astype(float).astype(int)\n",
    "df = df[(df['lower_bound_ip_address'] >= 0) & (df['upper_bound_ip_address'] <= 4294967295)]\n",
    "logging.info(\"Outliers and invalid IP address ranges handled\")\n"
   ]
  },
  {
   "cell_type": "code",
   "execution_count": 18,
   "metadata": {},
   "outputs": [],
   "source": [
    "# Validate country values and handle inconsistencies or errors\n",
    "valid_countries = ['Country A', 'Country B', 'Country C']  # replace with actual valid country names\n",
    "df = df[df['country'].isin(valid_countries)]\n",
    "logging.info(\"Country values validated\")"
   ]
  },
  {
   "cell_type": "code",
   "execution_count": 19,
   "metadata": {},
   "outputs": [],
   "source": [
    "# Convert IP address columns to appropriate data type\n",
    "df['lower_bound_ip_address'] = df['lower_bound_ip_address'].astype('int64')\n",
    "df['upper_bound_ip_address'] = df['upper_bound_ip_address'].astype('int64')\n",
    "logging.info(\"IP address columns converted to int64\")"
   ]
  },
  {
   "cell_type": "code",
   "execution_count": 21,
   "metadata": {},
   "outputs": [],
   "source": [
    "# Perform data type conversions and transformations\n",
    "df['country'] = df['country'].str.upper()\n",
    "logging.info(\"Country names normalized to uppercase\")\n"
   ]
  },
  {
   "cell_type": "code",
   "execution_count": 22,
   "metadata": {},
   "outputs": [],
   "source": [
    "# Handle special characters or encoding issues\n",
    "df['country'] = df['country'].str.replace('special_char', 'replacement_char')\n",
    "logging.info(\"Special characters handled\")\n"
   ]
  },
  {
   "cell_type": "code",
   "execution_count": 23,
   "metadata": {},
   "outputs": [],
   "source": [
    "# Save the cleaned dataset\n",
    "df.to_csv('cleaned_ip_mapping_dataset.csv', index=False)\n",
    "logging.info(\"Cleaned dataset saved\")"
   ]
  },
  {
   "cell_type": "code",
   "execution_count": null,
   "metadata": {},
   "outputs": [],
   "source": []
  }
 ],
 "metadata": {
  "kernelspec": {
   "display_name": "base",
   "language": "python",
   "name": "python3"
  },
  "language_info": {
   "codemirror_mode": {
    "name": "ipython",
    "version": 3
   },
   "file_extension": ".py",
   "mimetype": "text/x-python",
   "name": "python",
   "nbconvert_exporter": "python",
   "pygments_lexer": "ipython3",
   "version": "3.11.7"
  }
 },
 "nbformat": 4,
 "nbformat_minor": 2
}
